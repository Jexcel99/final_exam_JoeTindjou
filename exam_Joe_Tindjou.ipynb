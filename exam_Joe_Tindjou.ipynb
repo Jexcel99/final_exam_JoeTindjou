{
 "cells": [
  {
   "cell_type": "code",
   "execution_count": 1,
   "id": "dada0db3-47f2-4656-96d4-f11954cbadbf",
   "metadata": {},
   "outputs": [],
   "source": [
    "\n",
    "import pandas as pd\n",
    "import numpy as np\n",
    "\n",
    "import matplotlib.pyplot as plt\n",
    "import seaborn as sns\n",
    "\n",
    "import requests\n",
    "from bs4 import BeautifulSoup\n",
    "\n",
    "import wbdata\n",
    "\n",
    "import streamlit as st"
   ]
  },
  {
   "cell_type": "code",
   "execution_count": 9,
   "id": "a80760d4-816f-4eec-a3fd-ce8722e7cb89",
   "metadata": {},
   "outputs": [
    {
     "name": "stdout",
     "output_type": "stream",
     "text": [
      "2.2.2\n"
     ]
    }
   ],
   "source": [
    "print(pd.__version__)"
   ]
  },
  {
   "cell_type": "code",
   "execution_count": 3,
   "id": "edb0e8a4-2fd7-4320-aa5a-b084c0a5acae",
   "metadata": {},
   "outputs": [
    {
     "name": "stdout",
     "output_type": "stream",
     "text": [
      "The square of 1 is 1\n",
      "The square of 2 is 4\n",
      "The square of 3 is 9\n",
      "The square of 4 is 16\n",
      "The square of 5 is 25\n",
      "The square of 6 is 36\n",
      "The square of 7 is 49\n",
      "The square of 8 is 64\n",
      "The square of 9 is 81\n",
      "The square of 10 is 100\n",
      "The square of 11 is 121\n",
      "The square of 12 is 144\n",
      "The square of 13 is 169\n",
      "The square of 14 is 196\n",
      "The square of 15 is 225\n",
      "The square of 16 is 256\n",
      "The square of 17 is 289\n",
      "The square of 18 is 324\n",
      "The square of 19 is 361\n",
      "The square of 20 is 400\n"
     ]
    }
   ],
   "source": [
    "for i in range(1, 21):\n",
    "    # Calculate the square of the current number\n",
    "    square = i ** 2\n",
    "    # Print the result in a formatted string\n",
    "    print(f\"The square of {i} is {square}\")"
   ]
  },
  {
   "cell_type": "code",
   "execution_count": 5,
   "id": "d023c48d-7f3d-4ea1-b6ff-a3fab20faf4a",
   "metadata": {},
   "outputs": [
    {
     "name": "stdout",
     "output_type": "stream",
     "text": [
      "Grade 85 → Pass \n",
      "Grade 42 → Fail \n",
      "Grade 73 → Pass \n",
      "Grade 49 → Fail \n",
      "Grade 90 → Pass \n"
     ]
    }
   ],
   "source": [
    "# Define the function\n",
    "def check_grades(grades):\n",
    "    # Loop through each grade in the list\n",
    "    for grade in grades:\n",
    "        # Check if the grade is passing or failing\n",
    "        if grade >= 50:\n",
    "            print(f\"Grade {grade} → Pass \")\n",
    "        else:\n",
    "            print(f\"Grade {grade} → Fail \")\n",
    "\n",
    "# Test the function with a list \n",
    "test_grades = [85, 42, 73, 49, 90]\n",
    "check_grades(test_grades)"
   ]
  },
  {
   "cell_type": "code",
   "execution_count": 33,
   "id": "90076ed5-9099-479b-8e0c-e2edc9b227dd",
   "metadata": {},
   "outputs": [
    {
     "name": "stdout",
     "output_type": "stream",
     "text": [
      "Total vowels: 36\n",
      "A: 12\n",
      "E: 13\n",
      "I: 6\n",
      "O: 3\n",
      "U: 2\n"
     ]
    }
   ],
   "source": [
    "def count_vowels(text):\n",
    "    vowels = \"aeiou\"  # Define the vowels we want to count\n",
    "    count = 0  # Total vowel count\n",
    "    vowel_counts = {v: 0 for v in vowels}  # to store counts of individual vowels\n",
    "\n",
    "    for char in text.lower():  # Convert text to lowercase to handle both cases\n",
    "        if char in vowels:\n",
    "            count += 1  # Increment total vowel count\n",
    "            vowel_counts[char] += 1  # Increment specific vowel count\n",
    "\n",
    "    print(f\"Total vowels: {count}\")  # Print total count\n",
    "    for v, c in vowel_counts.items():  # Print count for each vowel\n",
    "        print(f\"{v.upper()}: {c}\")\n",
    "\n",
    "# Input string to test the function\n",
    "text = (\"You are the best python teacher can i have a 20/20 Please (imagine a baby with a pretty face asking the question) \")\n",
    "\n",
    "# Call the function with the input text\n",
    "count_vowels(text)\n"
   ]
  },
  {
   "cell_type": "code",
   "execution_count": 21,
   "id": "3339f10c-fe13-4ad8-b8d1-691559318e15",
   "metadata": {},
   "outputs": [
    {
     "name": "stdout",
     "output_type": "stream",
     "text": [
      "Enter a number (or 'done' to finish):  5\n",
      "Enter a number (or 'done' to finish):  90\n",
      "Enter a number (or 'done' to finish):  7\n",
      "Enter a number (or 'done' to finish):  done\n"
     ]
    },
    {
     "name": "stdout",
     "output_type": "stream",
     "text": [
      "Total numbers entered: 3\n",
      "Average: 34.0\n"
     ]
    }
   ],
   "source": [
    "def collect_numbers():\n",
    "    numbers = []  # List to store user-entered numbers\n",
    "\n",
    "    while True:\n",
    "        user_input = input(\"Enter a number (or 'done' to finish): \").strip()  # Get user input\n",
    "\n",
    "        if user_input.lower() == \"done\":  # Check if the user wants to stop\n",
    "            break\n",
    "\n",
    "        if not user_input:  # Skip empty input\n",
    "            print(\"Invalid input. Try again.\")\n",
    "            continue\n",
    "\n",
    "        try:\n",
    "            number = float(user_input)  # Try converting the input to a float\n",
    "            numbers.append(number)  # Add the valid number to the list\n",
    "        except ValueError:  # Handle non-numeric input\n",
    "            print(\"Invalid input. Try again.\")\n",
    "\n",
    "    # After exiting loop, check if we have valid numbers\n",
    "    if numbers:\n",
    "        total = len(numbers)  # Count how many numbers were entered\n",
    "        avg = round(sum(numbers) / total, 2)  # Calculate average, rounded to 2 decimals\n",
    "        print(f\"Total numbers entered: {total}\")\n",
    "        print(f\"Average: {avg}\")\n",
    "    else:\n",
    "        print(\"No valid numbers were entered.\")  # If the list is empty\n",
    "\n",
    "# Call the function\n",
    "collect_numbers()\n",
    "\n"
   ]
  },
  {
   "cell_type": "code",
   "execution_count": 14,
   "id": "b5108cc7-145a-484c-b317-c19451778f20",
   "metadata": {},
   "outputs": [
    {
     "name": "stdout",
     "output_type": "stream",
     "text": [
      "Alice spent $170\n",
      "Bob spent $100\n",
      "Clara spent $200\n"
     ]
    }
   ],
   "source": [
    "def analyze_purchases(purchase_data):\n",
    "    totals = {}  # Dictionary to store total spent per customer\n",
    "\n",
    "    for name, amount in purchase_data:  # Loop through all purchase entries\n",
    "        if name in totals:\n",
    "            totals[name] += amount  # Add to existing amount\n",
    "        else:\n",
    "            totals[name] = amount  # First purchase for the customer\n",
    "\n",
    "    # Print out each customer's total spend\n",
    "    for customer, total in totals.items():\n",
    "        print(f\"{customer} spent ${total}\")\n",
    "\n",
    "# Example list of purchases\n",
    "data = [(\"Alice\", 120), (\"Bob\", 80), (\"Alice\", 50), (\"Bob\", 20), (\"Clara\", 200)]\n",
    "\n",
    "# Call the function with the data\n",
    "analyze_purchases(data)\n"
   ]
  },
  {
   "cell_type": "code",
   "execution_count": 31,
   "id": "5c839e9c-3d15-424a-94f8-3c62b64d40e5",
   "metadata": {},
   "outputs": [
    {
     "name": "stdout",
     "output_type": "stream",
     "text": [
      "Requirement already satisfied: wbdata in /opt/anaconda3/lib/python3.12/site-packages (1.0.0)\n",
      "Requirement already satisfied: appdirs<2.0,>=1.4 in /opt/anaconda3/lib/python3.12/site-packages (from wbdata) (1.4.4)\n",
      "Requirement already satisfied: backoff<3.0.0,>=2.2.1 in /opt/anaconda3/lib/python3.12/site-packages (from wbdata) (2.2.1)\n",
      "Requirement already satisfied: cachetools<6.0.0,>=5.3.2 in /opt/anaconda3/lib/python3.12/site-packages (from wbdata) (5.3.3)\n",
      "Requirement already satisfied: dateparser<2.0.0,>=1.2.0 in /opt/anaconda3/lib/python3.12/site-packages (from wbdata) (1.2.2)\n",
      "Requirement already satisfied: decorator<6.0.0,>=5.1.1 in /opt/anaconda3/lib/python3.12/site-packages (from wbdata) (5.1.1)\n",
      "Requirement already satisfied: requests<3.0,>=2.0 in /opt/anaconda3/lib/python3.12/site-packages (from wbdata) (2.32.3)\n",
      "Requirement already satisfied: shelved-cache<0.4.0,>=0.3.1 in /opt/anaconda3/lib/python3.12/site-packages (from wbdata) (0.3.1)\n",
      "Requirement already satisfied: tabulate<0.9.0,>=0.8.5 in /opt/anaconda3/lib/python3.12/site-packages (from wbdata) (0.8.10)\n",
      "Requirement already satisfied: python-dateutil>=2.7.0 in /opt/anaconda3/lib/python3.12/site-packages (from dateparser<2.0.0,>=1.2.0->wbdata) (2.9.0.post0)\n",
      "Requirement already satisfied: pytz>=2024.2 in /opt/anaconda3/lib/python3.12/site-packages (from dateparser<2.0.0,>=1.2.0->wbdata) (2025.2)\n",
      "Requirement already satisfied: regex>=2024.9.11 in /opt/anaconda3/lib/python3.12/site-packages (from dateparser<2.0.0,>=1.2.0->wbdata) (2024.9.11)\n",
      "Requirement already satisfied: tzlocal>=0.2 in /opt/anaconda3/lib/python3.12/site-packages (from dateparser<2.0.0,>=1.2.0->wbdata) (5.3.1)\n",
      "Requirement already satisfied: charset-normalizer<4,>=2 in /opt/anaconda3/lib/python3.12/site-packages (from requests<3.0,>=2.0->wbdata) (3.3.2)\n",
      "Requirement already satisfied: idna<4,>=2.5 in /opt/anaconda3/lib/python3.12/site-packages (from requests<3.0,>=2.0->wbdata) (3.7)\n",
      "Requirement already satisfied: urllib3<3,>=1.21.1 in /opt/anaconda3/lib/python3.12/site-packages (from requests<3.0,>=2.0->wbdata) (2.2.3)\n",
      "Requirement already satisfied: certifi>=2017.4.17 in /opt/anaconda3/lib/python3.12/site-packages (from requests<3.0,>=2.0->wbdata) (2025.6.15)\n",
      "Requirement already satisfied: six>=1.5 in /opt/anaconda3/lib/python3.12/site-packages (from python-dateutil>=2.7.0->dateparser<2.0.0,>=1.2.0->wbdata) (1.16.0)\n",
      "Requirement already satisfied: pandas in /opt/anaconda3/lib/python3.12/site-packages (2.2.2)\n",
      "Requirement already satisfied: numpy>=1.26.0 in /opt/anaconda3/lib/python3.12/site-packages (from pandas) (1.26.4)\n",
      "Requirement already satisfied: python-dateutil>=2.8.2 in /opt/anaconda3/lib/python3.12/site-packages (from pandas) (2.9.0.post0)\n",
      "Requirement already satisfied: pytz>=2020.1 in /opt/anaconda3/lib/python3.12/site-packages (from pandas) (2025.2)\n",
      "Requirement already satisfied: tzdata>=2022.7 in /opt/anaconda3/lib/python3.12/site-packages (from pandas) (2023.3)\n",
      "Requirement already satisfied: six>=1.5 in /opt/anaconda3/lib/python3.12/site-packages (from python-dateutil>=2.8.2->pandas) (1.16.0)\n",
      "Denmark - 2020: 5831404\n",
      "Denmark - 2019: 5814422\n",
      "Denmark - 2018: 5793636\n",
      "Denmark - 2017: 5764980\n",
      "Denmark - 2016: 5728010\n",
      "Denmark - 2015: 5683483\n",
      "Denmark - 2014: 5643475\n",
      "Denmark - 2013: 5614932\n",
      "Denmark - 2012: 5591572\n",
      "Denmark - 2011: 5570572\n",
      "Denmark - 2010: 5547683\n",
      "Denmark - 2020: 5831404\n",
      "Denmark - 2019: 5814422\n",
      "Denmark - 2018: 5793636\n",
      "Denmark - 2017: 5764980\n",
      "Denmark - 2016: 5728010\n",
      "Denmark - 2015: 5683483\n",
      "Denmark - 2014: 5643475\n",
      "Denmark - 2013: 5614932\n",
      "Denmark - 2012: 5591572\n",
      "Denmark - 2011: 5570572\n",
      "Denmark - 2010: 5547683\n"
     ]
    }
   ],
   "source": [
    "!pip install wbdata\n",
    "!pip install pandas\n",
    "import wbdata\n",
    "import datetime\n",
    "import pandas as pd\n",
    "\n",
    "def get_denmark_population():\n",
    "    country = \"DK\"  # ISO code for Denmark\n",
    "    indicator = {\"SP.POP.TOTL\": \"Population\"}  # World Bank indicator: total population\n",
    "\n",
    "    # Date range from 2010 to 2020\n",
    "    start_date = datetime.datetime(2010, 1, 1)\n",
    "    end_date = datetime.datetime(2020, 12, 31)\n",
    "\n",
    "    # Get the population data from World Bank\n",
    "    data = wbdata.get_dataframe(indicator, country, (start_date, end_date))\n",
    "\n",
    "    # Reset index to make 'date' a column\n",
    "    data = data.reset_index()\n",
    "\n",
    "    # Convert 'date' column from string to datetime\n",
    "    data['date'] = pd.to_datetime(data['date'])\n",
    "\n",
    "    # Print population per year\n",
    "    for _, row in data.iterrows():\n",
    "        year = row['date'].year  # Now this works!\n",
    "        population = int(row['Population']) if not pd.isnull(row['Population']) else 'N/A'\n",
    "        print(f\"Denmark - {year}: {population}\")\n",
    "\n",
    "# Run the function\n",
    "get_denmark_population()\n",
    "\n",
    "get_denmark_population()\n"
   ]
  },
  {
   "cell_type": "code",
   "execution_count": null,
   "id": "0e303898-f3cb-4d18-a694-68311b99a049",
   "metadata": {},
   "outputs": [],
   "source": []
  }
 ],
 "metadata": {
  "kernelspec": {
   "display_name": "Python [conda env:base] *",
   "language": "python",
   "name": "conda-base-py"
  },
  "language_info": {
   "codemirror_mode": {
    "name": "ipython",
    "version": 3
   },
   "file_extension": ".py",
   "mimetype": "text/x-python",
   "name": "python",
   "nbconvert_exporter": "python",
   "pygments_lexer": "ipython3",
   "version": "3.12.7"
  }
 },
 "nbformat": 4,
 "nbformat_minor": 5
}
